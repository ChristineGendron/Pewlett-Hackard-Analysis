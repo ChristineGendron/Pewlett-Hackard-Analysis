{
 "cells": [
  {
   "cell_type": "code",
   "execution_count": 1,
   "id": "7de19d0f",
   "metadata": {},
   "outputs": [],
   "source": [
    "import pandas as pd\n",
    "%matplotlib inline\n",
    "import matplotlib.pyplot as plt\n",
    "import os \n",
    "\n",
    "data_to_load = os.path.join(\"Data\", \"Challenge Data\", \"unique_titles.csv\")\n"
   ]
  },
  {
   "cell_type": "code",
   "execution_count": 7,
   "id": "3d0d94cc",
   "metadata": {},
   "outputs": [
    {
     "data": {
      "text/html": [
       "<div>\n",
       "<style scoped>\n",
       "    .dataframe tbody tr th:only-of-type {\n",
       "        vertical-align: middle;\n",
       "    }\n",
       "\n",
       "    .dataframe tbody tr th {\n",
       "        vertical-align: top;\n",
       "    }\n",
       "\n",
       "    .dataframe thead th {\n",
       "        text-align: right;\n",
       "    }\n",
       "</style>\n",
       "<table border=\"1\" class=\"dataframe\">\n",
       "  <thead>\n",
       "    <tr style=\"text-align: right;\">\n",
       "      <th></th>\n",
       "      <th>emp_no</th>\n",
       "      <th>first_name</th>\n",
       "      <th>last_name</th>\n",
       "    </tr>\n",
       "    <tr>\n",
       "      <th>title</th>\n",
       "      <th></th>\n",
       "      <th></th>\n",
       "      <th></th>\n",
       "    </tr>\n",
       "  </thead>\n",
       "  <tbody>\n",
       "    <tr>\n",
       "      <th>Assistant Engineer</th>\n",
       "      <td>1090</td>\n",
       "      <td>1090</td>\n",
       "      <td>1090</td>\n",
       "    </tr>\n",
       "    <tr>\n",
       "      <th>Engineer</th>\n",
       "      <td>9285</td>\n",
       "      <td>9285</td>\n",
       "      <td>9285</td>\n",
       "    </tr>\n",
       "    <tr>\n",
       "      <th>Manager</th>\n",
       "      <td>2</td>\n",
       "      <td>2</td>\n",
       "      <td>2</td>\n",
       "    </tr>\n",
       "    <tr>\n",
       "      <th>Senior Engineer</th>\n",
       "      <td>25916</td>\n",
       "      <td>25916</td>\n",
       "      <td>25916</td>\n",
       "    </tr>\n",
       "    <tr>\n",
       "      <th>Senior Staff</th>\n",
       "      <td>24926</td>\n",
       "      <td>24926</td>\n",
       "      <td>24926</td>\n",
       "    </tr>\n",
       "    <tr>\n",
       "      <th>Staff</th>\n",
       "      <td>7636</td>\n",
       "      <td>7636</td>\n",
       "      <td>7636</td>\n",
       "    </tr>\n",
       "    <tr>\n",
       "      <th>Technique Leader</th>\n",
       "      <td>3603</td>\n",
       "      <td>3603</td>\n",
       "      <td>3603</td>\n",
       "    </tr>\n",
       "  </tbody>\n",
       "</table>\n",
       "</div>"
      ],
      "text/plain": [
       "                    emp_no  first_name  last_name\n",
       "title                                            \n",
       "Assistant Engineer    1090        1090       1090\n",
       "Engineer              9285        9285       9285\n",
       "Manager                  2           2          2\n",
       "Senior Engineer      25916       25916      25916\n",
       "Senior Staff         24926       24926      24926\n",
       "Staff                 7636        7636       7636\n",
       "Technique Leader      3603        3603       3603"
      ]
     },
     "execution_count": 7,
     "metadata": {},
     "output_type": "execute_result"
    }
   ],
   "source": [
    "unique_titles_df = pd.read_csv(data_to_load)\n",
    "unique_titles_df\n",
    "\n",
    "for_chart_df = unique_titles_df.groupby([\"title\"]).count()\n",
    "\n",
    "for_chart_df"
   ]
  },
  {
   "cell_type": "code",
   "execution_count": 19,
   "id": "8a1682ec",
   "metadata": {},
   "outputs": [
    {
     "data": {
      "image/png": "[encoded data removed]",
      "text/plain": [
       "<Figure size 432x288 with 1 Axes>"
      ]
     },
     "metadata": {
      "needs_background": "light"
     },
     "output_type": "display_data"
    }
   ],
   "source": [
    "plt.bar(for_chart_df.index, for_chart_df[\"emp_no\"])\n",
    "\n",
    "plt.ylabel(\"Number of Employees\")\n",
    "\n",
    "plt.xlabel(\"Job Titles\")\n",
    "\n",
    "plt.title(\"Retirees by Role\")\n",
    "\n",
    "plt.xticks(rotation=45)\n",
    "\n",
    "plt.grid()\n",
    "\n",
    "plt.savefig(\"retirees_by_role_bar.png\")"
   ]
  },
  {
   "cell_type": "code",
   "execution_count": null,
   "id": "22c7c11b",
   "metadata": {},
   "outputs": [],
   "source": []
  }
 ],
 "metadata": {
  "kernelspec": {
   "display_name": "PythonData",
   "language": "python",
   "name": "pythondata"
  },
  "language_info": {
   "codemirror_mode": {
    "name": "ipython",
    "version": 3
   },
   "file_extension": ".py",
   "mimetype": "text/x-python",
   "name": "python",
   "nbconvert_exporter": "python",
   "pygments_lexer": "ipython3",
   "version": "3.7.13"
  }
 },
 "nbformat": 4,
 "nbformat_minor": 5
}
